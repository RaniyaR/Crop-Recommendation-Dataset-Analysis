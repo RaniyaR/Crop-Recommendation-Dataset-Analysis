{
 "cells": [
  {
   "cell_type": "markdown",
   "id": "cbe67a54-2f79-430f-9821-53ec013d7dbb",
   "metadata": {},
   "source": [
    "# Data Preprocessing Steps:"
   ]
  },
  {
   "cell_type": "code",
   "execution_count": 754,
   "id": "4ea165da-9396-4507-938d-ab238d98816d",
   "metadata": {},
   "outputs": [],
   "source": [
    "import numpy as np\n",
    "import pandas as pd\n",
    "import matplotlib.pyplot as plt\n",
    "import seaborn as sns\n",
    "from matplotlib.colors import ListedColormap\n",
    "from sklearn import preprocessing\n",
    "from sklearn.model_selection import train_test_split\n",
    "from sklearn.impute import SimpleImputer\n",
    "from sklearn.preprocessing import LabelEncoder\n",
    "from sklearn.ensemble import RandomForestClassifier\n",
    "from sklearn.model_selection import cross_val_score\n",
    "from sklearn import metrics, tree\n",
    "from sklearn.preprocessing import StandardScaler\n",
    "from sklearn import svm"
   ]
  },
  {
   "cell_type": "markdown",
   "id": "44983305-f282-4a31-990b-1d2a68acb197",
   "metadata": {},
   "source": [
    "[Crop_recommendation.csv](Crop_recommendation.csv)\n"
   ]
  },
  {
   "cell_type": "code",
   "execution_count": 755,
   "id": "6c37c9bb-839d-4d61-8126-1d62b0acd1a9",
   "metadata": {},
   "outputs": [],
   "source": [
    "df = pd.read_csv(\"Crop_recommendation.csv\")"
   ]
  },
  {
   "cell_type": "code",
   "execution_count": 756,
   "id": "91c009e1-9494-48b7-ba14-abc8ace09a19",
   "metadata": {},
   "outputs": [
    {
     "data": {
      "text/html": [
       "<div>\n",
       "<style scoped>\n",
       "    .dataframe tbody tr th:only-of-type {\n",
       "        vertical-align: middle;\n",
       "    }\n",
       "\n",
       "    .dataframe tbody tr th {\n",
       "        vertical-align: top;\n",
       "    }\n",
       "\n",
       "    .dataframe thead th {\n",
       "        text-align: right;\n",
       "    }\n",
       "</style>\n",
       "<table border=\"1\" class=\"dataframe\">\n",
       "  <thead>\n",
       "    <tr style=\"text-align: right;\">\n",
       "      <th></th>\n",
       "      <th>N</th>\n",
       "      <th>P</th>\n",
       "      <th>K</th>\n",
       "      <th>temperature</th>\n",
       "      <th>humidity</th>\n",
       "      <th>ph</th>\n",
       "      <th>rainfall</th>\n",
       "      <th>label</th>\n",
       "    </tr>\n",
       "  </thead>\n",
       "  <tbody>\n",
       "    <tr>\n",
       "      <th>0</th>\n",
       "      <td>90</td>\n",
       "      <td>42</td>\n",
       "      <td>43</td>\n",
       "      <td>20.879744</td>\n",
       "      <td>82.002744</td>\n",
       "      <td>6.502985</td>\n",
       "      <td>202.935536</td>\n",
       "      <td>rice</td>\n",
       "    </tr>\n",
       "    <tr>\n",
       "      <th>1</th>\n",
       "      <td>85</td>\n",
       "      <td>58</td>\n",
       "      <td>41</td>\n",
       "      <td>21.770462</td>\n",
       "      <td>80.319644</td>\n",
       "      <td>7.038096</td>\n",
       "      <td>226.655537</td>\n",
       "      <td>rice</td>\n",
       "    </tr>\n",
       "    <tr>\n",
       "      <th>2</th>\n",
       "      <td>60</td>\n",
       "      <td>55</td>\n",
       "      <td>44</td>\n",
       "      <td>23.004459</td>\n",
       "      <td>82.320763</td>\n",
       "      <td>7.840207</td>\n",
       "      <td>263.964248</td>\n",
       "      <td>rice</td>\n",
       "    </tr>\n",
       "    <tr>\n",
       "      <th>3</th>\n",
       "      <td>74</td>\n",
       "      <td>35</td>\n",
       "      <td>40</td>\n",
       "      <td>26.491096</td>\n",
       "      <td>80.158363</td>\n",
       "      <td>6.980401</td>\n",
       "      <td>242.864034</td>\n",
       "      <td>rice</td>\n",
       "    </tr>\n",
       "    <tr>\n",
       "      <th>4</th>\n",
       "      <td>78</td>\n",
       "      <td>42</td>\n",
       "      <td>42</td>\n",
       "      <td>20.130175</td>\n",
       "      <td>81.604873</td>\n",
       "      <td>7.628473</td>\n",
       "      <td>262.717340</td>\n",
       "      <td>rice</td>\n",
       "    </tr>\n",
       "    <tr>\n",
       "      <th>...</th>\n",
       "      <td>...</td>\n",
       "      <td>...</td>\n",
       "      <td>...</td>\n",
       "      <td>...</td>\n",
       "      <td>...</td>\n",
       "      <td>...</td>\n",
       "      <td>...</td>\n",
       "      <td>...</td>\n",
       "    </tr>\n",
       "    <tr>\n",
       "      <th>2195</th>\n",
       "      <td>107</td>\n",
       "      <td>34</td>\n",
       "      <td>32</td>\n",
       "      <td>26.774637</td>\n",
       "      <td>66.413269</td>\n",
       "      <td>6.780064</td>\n",
       "      <td>177.774507</td>\n",
       "      <td>coffee</td>\n",
       "    </tr>\n",
       "    <tr>\n",
       "      <th>2196</th>\n",
       "      <td>99</td>\n",
       "      <td>15</td>\n",
       "      <td>27</td>\n",
       "      <td>27.417112</td>\n",
       "      <td>56.636362</td>\n",
       "      <td>6.086922</td>\n",
       "      <td>127.924610</td>\n",
       "      <td>coffee</td>\n",
       "    </tr>\n",
       "    <tr>\n",
       "      <th>2197</th>\n",
       "      <td>118</td>\n",
       "      <td>33</td>\n",
       "      <td>30</td>\n",
       "      <td>24.131797</td>\n",
       "      <td>67.225123</td>\n",
       "      <td>6.362608</td>\n",
       "      <td>173.322839</td>\n",
       "      <td>coffee</td>\n",
       "    </tr>\n",
       "    <tr>\n",
       "      <th>2198</th>\n",
       "      <td>117</td>\n",
       "      <td>32</td>\n",
       "      <td>34</td>\n",
       "      <td>26.272418</td>\n",
       "      <td>52.127394</td>\n",
       "      <td>6.758793</td>\n",
       "      <td>127.175293</td>\n",
       "      <td>coffee</td>\n",
       "    </tr>\n",
       "    <tr>\n",
       "      <th>2199</th>\n",
       "      <td>104</td>\n",
       "      <td>18</td>\n",
       "      <td>30</td>\n",
       "      <td>23.603016</td>\n",
       "      <td>60.396475</td>\n",
       "      <td>6.779833</td>\n",
       "      <td>140.937041</td>\n",
       "      <td>coffee</td>\n",
       "    </tr>\n",
       "  </tbody>\n",
       "</table>\n",
       "<p>2200 rows × 8 columns</p>\n",
       "</div>"
      ],
      "text/plain": [
       "        N   P   K  temperature   humidity        ph    rainfall   label\n",
       "0      90  42  43    20.879744  82.002744  6.502985  202.935536    rice\n",
       "1      85  58  41    21.770462  80.319644  7.038096  226.655537    rice\n",
       "2      60  55  44    23.004459  82.320763  7.840207  263.964248    rice\n",
       "3      74  35  40    26.491096  80.158363  6.980401  242.864034    rice\n",
       "4      78  42  42    20.130175  81.604873  7.628473  262.717340    rice\n",
       "...   ...  ..  ..          ...        ...       ...         ...     ...\n",
       "2195  107  34  32    26.774637  66.413269  6.780064  177.774507  coffee\n",
       "2196   99  15  27    27.417112  56.636362  6.086922  127.924610  coffee\n",
       "2197  118  33  30    24.131797  67.225123  6.362608  173.322839  coffee\n",
       "2198  117  32  34    26.272418  52.127394  6.758793  127.175293  coffee\n",
       "2199  104  18  30    23.603016  60.396475  6.779833  140.937041  coffee\n",
       "\n",
       "[2200 rows x 8 columns]"
      ]
     },
     "execution_count": 756,
     "metadata": {},
     "output_type": "execute_result"
    }
   ],
   "source": [
    "df"
   ]
  },
  {
   "cell_type": "code",
   "execution_count": 757,
   "id": "2746a20b-be10-4d1a-9c90-58ff7bef2818",
   "metadata": {},
   "outputs": [
    {
     "name": "stdout",
     "output_type": "stream",
     "text": [
      "<class 'pandas.core.frame.DataFrame'>\n",
      "RangeIndex: 2200 entries, 0 to 2199\n",
      "Data columns (total 8 columns):\n",
      " #   Column       Non-Null Count  Dtype  \n",
      "---  ------       --------------  -----  \n",
      " 0   N            2200 non-null   int64  \n",
      " 1   P            2200 non-null   int64  \n",
      " 2   K            2200 non-null   int64  \n",
      " 3   temperature  2200 non-null   float64\n",
      " 4   humidity     2200 non-null   float64\n",
      " 5   ph           2200 non-null   float64\n",
      " 6   rainfall     2200 non-null   float64\n",
      " 7   label        2200 non-null   object \n",
      "dtypes: float64(4), int64(3), object(1)\n",
      "memory usage: 137.6+ KB\n"
     ]
    }
   ],
   "source": [
    "df.info()"
   ]
  },
  {
   "cell_type": "code",
   "execution_count": 758,
   "id": "e300f093-54cf-4944-9dcf-31d2b13c5079",
   "metadata": {},
   "outputs": [
    {
     "data": {
      "text/html": [
       "<div>\n",
       "<style scoped>\n",
       "    .dataframe tbody tr th:only-of-type {\n",
       "        vertical-align: middle;\n",
       "    }\n",
       "\n",
       "    .dataframe tbody tr th {\n",
       "        vertical-align: top;\n",
       "    }\n",
       "\n",
       "    .dataframe thead th {\n",
       "        text-align: right;\n",
       "    }\n",
       "</style>\n",
       "<table border=\"1\" class=\"dataframe\">\n",
       "  <thead>\n",
       "    <tr style=\"text-align: right;\">\n",
       "      <th></th>\n",
       "      <th>N</th>\n",
       "      <th>P</th>\n",
       "      <th>K</th>\n",
       "      <th>temperature</th>\n",
       "      <th>humidity</th>\n",
       "      <th>ph</th>\n",
       "      <th>rainfall</th>\n",
       "    </tr>\n",
       "  </thead>\n",
       "  <tbody>\n",
       "    <tr>\n",
       "      <th>count</th>\n",
       "      <td>2200.000000</td>\n",
       "      <td>2200.000000</td>\n",
       "      <td>2200.000000</td>\n",
       "      <td>2200.000000</td>\n",
       "      <td>2200.000000</td>\n",
       "      <td>2200.000000</td>\n",
       "      <td>2200.000000</td>\n",
       "    </tr>\n",
       "    <tr>\n",
       "      <th>mean</th>\n",
       "      <td>50.551818</td>\n",
       "      <td>53.362727</td>\n",
       "      <td>48.149091</td>\n",
       "      <td>25.616244</td>\n",
       "      <td>71.481779</td>\n",
       "      <td>6.469480</td>\n",
       "      <td>103.463655</td>\n",
       "    </tr>\n",
       "    <tr>\n",
       "      <th>std</th>\n",
       "      <td>36.917334</td>\n",
       "      <td>32.985883</td>\n",
       "      <td>50.647931</td>\n",
       "      <td>5.063749</td>\n",
       "      <td>22.263812</td>\n",
       "      <td>0.773938</td>\n",
       "      <td>54.958389</td>\n",
       "    </tr>\n",
       "    <tr>\n",
       "      <th>min</th>\n",
       "      <td>0.000000</td>\n",
       "      <td>5.000000</td>\n",
       "      <td>5.000000</td>\n",
       "      <td>8.825675</td>\n",
       "      <td>14.258040</td>\n",
       "      <td>3.504752</td>\n",
       "      <td>20.211267</td>\n",
       "    </tr>\n",
       "    <tr>\n",
       "      <th>25%</th>\n",
       "      <td>21.000000</td>\n",
       "      <td>28.000000</td>\n",
       "      <td>20.000000</td>\n",
       "      <td>22.769375</td>\n",
       "      <td>60.261953</td>\n",
       "      <td>5.971693</td>\n",
       "      <td>64.551686</td>\n",
       "    </tr>\n",
       "    <tr>\n",
       "      <th>50%</th>\n",
       "      <td>37.000000</td>\n",
       "      <td>51.000000</td>\n",
       "      <td>32.000000</td>\n",
       "      <td>25.598693</td>\n",
       "      <td>80.473146</td>\n",
       "      <td>6.425045</td>\n",
       "      <td>94.867624</td>\n",
       "    </tr>\n",
       "    <tr>\n",
       "      <th>75%</th>\n",
       "      <td>84.250000</td>\n",
       "      <td>68.000000</td>\n",
       "      <td>49.000000</td>\n",
       "      <td>28.561654</td>\n",
       "      <td>89.948771</td>\n",
       "      <td>6.923643</td>\n",
       "      <td>124.267508</td>\n",
       "    </tr>\n",
       "    <tr>\n",
       "      <th>max</th>\n",
       "      <td>140.000000</td>\n",
       "      <td>145.000000</td>\n",
       "      <td>205.000000</td>\n",
       "      <td>43.675493</td>\n",
       "      <td>99.981876</td>\n",
       "      <td>9.935091</td>\n",
       "      <td>298.560117</td>\n",
       "    </tr>\n",
       "  </tbody>\n",
       "</table>\n",
       "</div>"
      ],
      "text/plain": [
       "                 N            P            K  temperature     humidity  \\\n",
       "count  2200.000000  2200.000000  2200.000000  2200.000000  2200.000000   \n",
       "mean     50.551818    53.362727    48.149091    25.616244    71.481779   \n",
       "std      36.917334    32.985883    50.647931     5.063749    22.263812   \n",
       "min       0.000000     5.000000     5.000000     8.825675    14.258040   \n",
       "25%      21.000000    28.000000    20.000000    22.769375    60.261953   \n",
       "50%      37.000000    51.000000    32.000000    25.598693    80.473146   \n",
       "75%      84.250000    68.000000    49.000000    28.561654    89.948771   \n",
       "max     140.000000   145.000000   205.000000    43.675493    99.981876   \n",
       "\n",
       "                ph     rainfall  \n",
       "count  2200.000000  2200.000000  \n",
       "mean      6.469480   103.463655  \n",
       "std       0.773938    54.958389  \n",
       "min       3.504752    20.211267  \n",
       "25%       5.971693    64.551686  \n",
       "50%       6.425045    94.867624  \n",
       "75%       6.923643   124.267508  \n",
       "max       9.935091   298.560117  "
      ]
     },
     "execution_count": 758,
     "metadata": {},
     "output_type": "execute_result"
    }
   ],
   "source": [
    "df.describe()"
   ]
  },
  {
   "cell_type": "markdown",
   "id": "d6e1ddc5-6f38-48cf-a440-3800d5e0ab51",
   "metadata": {},
   "source": [
    "Renaming some column names for clarity"
   ]
  },
  {
   "cell_type": "code",
   "execution_count": 759,
   "id": "8ce33f0a-4323-44f3-86e5-f64d896673b9",
   "metadata": {},
   "outputs": [],
   "source": [
    "df.rename(columns={'N':'nitrogen', 'P':'phosphorus', 'K':'potassium', 'label': 'crop_type'}, inplace=True)"
   ]
  },
  {
   "cell_type": "code",
   "execution_count": 760,
   "id": "783e8ccf-0ad4-4f78-a29f-e004cd587136",
   "metadata": {},
   "outputs": [
    {
     "data": {
      "text/plain": [
       "Index(['nitrogen', 'phosphorus', 'potassium', 'temperature', 'humidity', 'ph',\n",
       "       'rainfall', 'crop_type'],\n",
       "      dtype='object')"
      ]
     },
     "execution_count": 760,
     "metadata": {},
     "output_type": "execute_result"
    }
   ],
   "source": [
    "df.columns"
   ]
  },
  {
   "cell_type": "markdown",
   "id": "df00f52e-f9a4-4c1c-af8c-bcb344bfd4a1",
   "metadata": {},
   "source": [
    "### Handling Missing Data"
   ]
  },
  {
   "cell_type": "markdown",
   "id": "87292b3a-1599-4d98-bffd-3e4973671115",
   "metadata": {},
   "source": [
    "Only one column has an invalid zero minimum value:\n",
    "\n",
    "1. nitrogen - ratio of Nitrogen content in soil"
   ]
  },
  {
   "cell_type": "code",
   "execution_count": 761,
   "id": "dcbe6b5a-e5d5-468c-b6bc-7bbd3ac7b53e",
   "metadata": {},
   "outputs": [
    {
     "name": "stdout",
     "output_type": "stream",
     "text": [
      "nitrogen    27\n",
      "dtype: int64\n"
     ]
    }
   ],
   "source": [
    "col_missing = pd.Series(['nitrogen'])\n",
    "num_missing = (df[col_missing] == 0).sum()\n",
    "print(num_missing)                  "
   ]
  },
  {
   "cell_type": "code",
   "execution_count": 762,
   "id": "68afa2a0-d57f-423a-a612-530599129901",
   "metadata": {},
   "outputs": [
    {
     "name": "stdout",
     "output_type": "stream",
     "text": [
      "nitrogen       27\n",
      "phosphorus      0\n",
      "potassium       0\n",
      "temperature     0\n",
      "humidity        0\n",
      "ph              0\n",
      "rainfall        0\n",
      "crop_type       0\n",
      "dtype: int64\n"
     ]
    }
   ],
   "source": [
    "df1 = df\n",
    "df1[col_missing] = df1[col_missing].replace(0, np.nan)\n",
    "print(df1.isnull().sum())"
   ]
  },
  {
   "cell_type": "code",
   "execution_count": 763,
   "id": "0addfa43-6cd9-4744-ae72-a6828ca37fdd",
   "metadata": {},
   "outputs": [],
   "source": [
    "df1 = df1.dropna()"
   ]
  },
  {
   "cell_type": "code",
   "execution_count": 764,
   "id": "810b5503-ff41-4145-8a75-0cd01ad3589c",
   "metadata": {},
   "outputs": [
    {
     "name": "stdout",
     "output_type": "stream",
     "text": [
      "<class 'pandas.core.frame.DataFrame'>\n",
      "Index: 2173 entries, 0 to 2199\n",
      "Data columns (total 8 columns):\n",
      " #   Column       Non-Null Count  Dtype  \n",
      "---  ------       --------------  -----  \n",
      " 0   nitrogen     2173 non-null   float64\n",
      " 1   phosphorus   2173 non-null   int64  \n",
      " 2   potassium    2173 non-null   int64  \n",
      " 3   temperature  2173 non-null   float64\n",
      " 4   humidity     2173 non-null   float64\n",
      " 5   ph           2173 non-null   float64\n",
      " 6   rainfall     2173 non-null   float64\n",
      " 7   crop_type    2173 non-null   object \n",
      "dtypes: float64(5), int64(2), object(1)\n",
      "memory usage: 152.8+ KB\n"
     ]
    }
   ],
   "source": [
    "df1.info()"
   ]
  },
  {
   "cell_type": "markdown",
   "id": "5bfc4814-3e2d-47b0-8a07-51685dd3a438",
   "metadata": {},
   "source": [
    "### Independent Variables"
   ]
  },
  {
   "cell_type": "code",
   "execution_count": 765,
   "id": "40506250-135a-4ab1-a28b-889a046bb1c0",
   "metadata": {},
   "outputs": [],
   "source": [
    "numeric_columns = ['nitrogen', 'phosphorus', 'potassium', 'temperature', 'humidity',\n",
    "                  'ph', 'rainfall']\n",
    "ind_columns = numeric_columns"
   ]
  },
  {
   "cell_type": "markdown",
   "id": "ebada97f-a06c-4e0b-800e-98883f41ca47",
   "metadata": {},
   "source": [
    "For this dataset, all columns are independent except for 'label' which is dependent on soil and rainfall conditions as described by the independent variable columns"
   ]
  },
  {
   "cell_type": "markdown",
   "id": "6ac64def-3ac4-4967-be1d-a6b11df28ba8",
   "metadata": {},
   "source": [
    "### Encoding the Dependent Variable"
   ]
  },
  {
   "cell_type": "code",
   "execution_count": 766,
   "id": "7673f2db-c92f-4d18-9dcb-a9d7c803ee33",
   "metadata": {},
   "outputs": [
    {
     "data": {
      "text/plain": [
       "array(['rice', 'maize', 'chickpea', 'kidneybeans', 'pigeonpeas',\n",
       "       'mothbeans', 'mungbean', 'blackgram', 'lentil', 'pomegranate',\n",
       "       'banana', 'mango', 'grapes', 'watermelon', 'muskmelon', 'apple',\n",
       "       'orange', 'papaya', 'coconut', 'cotton', 'jute', 'coffee'],\n",
       "      dtype=object)"
      ]
     },
     "execution_count": 766,
     "metadata": {},
     "output_type": "execute_result"
    }
   ],
   "source": [
    "df1['crop_type'].unique()"
   ]
  },
  {
   "cell_type": "code",
   "execution_count": 767,
   "id": "7896cfe0-fb95-458b-bc68-28383853c045",
   "metadata": {
    "jp-MarkdownHeadingCollapsed": true
   },
   "outputs": [
    {
     "name": "stdout",
     "output_type": "stream",
     "text": [
      "<class 'pandas.core.frame.DataFrame'>\n",
      "Index: 2173 entries, 0 to 2199\n",
      "Data columns (total 9 columns):\n",
      " #   Column             Non-Null Count  Dtype  \n",
      "---  ------             --------------  -----  \n",
      " 0   nitrogen           2173 non-null   float64\n",
      " 1   phosphorus         2173 non-null   int64  \n",
      " 2   potassium          2173 non-null   int64  \n",
      " 3   temperature        2173 non-null   float64\n",
      " 4   humidity           2173 non-null   float64\n",
      " 5   ph                 2173 non-null   float64\n",
      " 6   rainfall           2173 non-null   float64\n",
      " 7   crop_type          2173 non-null   object \n",
      " 8   crop_type_encoded  2173 non-null   int64  \n",
      "dtypes: float64(5), int64(3), object(1)\n",
      "memory usage: 169.8+ KB\n"
     ]
    }
   ],
   "source": [
    "df2.info()"
   ]
  },
  {
   "cell_type": "code",
   "execution_count": 768,
   "id": "5945efca-de68-4b8e-acb2-e84e383b4002",
   "metadata": {},
   "outputs": [],
   "source": [
    "X = df2[ind_columns].values.reshape(-1,7)\n",
    "y = df2[['crop_type_encoded']].values.reshape(-1,1)\n",
    "trainX,testX,trainY,testY = train_test_split(X, y, test_size=.2, random_state=42)"
   ]
  },
  {
   "cell_type": "markdown",
   "id": "212f1a06-3ebb-4e08-87df-0380e7672d28",
   "metadata": {},
   "source": [
    "### Splitting Training and Testing Data"
   ]
  },
  {
   "cell_type": "code",
   "execution_count": 769,
   "id": "9263d609-571f-4089-8795-0095a398bdb1",
   "metadata": {},
   "outputs": [
    {
     "name": "stdout",
     "output_type": "stream",
     "text": [
      "Split X:  (1738, 7) (435, 7)\n",
      "Split Y:  (1738, 1) (435, 1)\n"
     ]
    }
   ],
   "source": [
    "print('Split X: ',trainX.shape, testX.shape)\n",
    "print('Split Y: ',trainY.shape, testY.shape)"
   ]
  },
  {
   "cell_type": "markdown",
   "id": "9edbef10-e828-4cc1-8b32-99389e80bc0e",
   "metadata": {},
   "source": [
    "### Normalization & Standardization"
   ]
  },
  {
   "cell_type": "code",
   "execution_count": 770,
   "id": "9b7db0de-aeec-4ce4-a43c-500c70745445",
   "metadata": {},
   "outputs": [
    {
     "data": {
      "text/html": [
       "<div>\n",
       "<style scoped>\n",
       "    .dataframe tbody tr th:only-of-type {\n",
       "        vertical-align: middle;\n",
       "    }\n",
       "\n",
       "    .dataframe tbody tr th {\n",
       "        vertical-align: top;\n",
       "    }\n",
       "\n",
       "    .dataframe thead th {\n",
       "        text-align: right;\n",
       "    }\n",
       "</style>\n",
       "<table border=\"1\" class=\"dataframe\">\n",
       "  <thead>\n",
       "    <tr style=\"text-align: right;\">\n",
       "      <th></th>\n",
       "      <th>nitrogen</th>\n",
       "      <th>phosphorus</th>\n",
       "      <th>potassium</th>\n",
       "      <th>temperature</th>\n",
       "      <th>humidity</th>\n",
       "      <th>ph</th>\n",
       "      <th>rainfall</th>\n",
       "    </tr>\n",
       "  </thead>\n",
       "  <tbody>\n",
       "    <tr>\n",
       "      <th>0</th>\n",
       "      <td>1.057705</td>\n",
       "      <td>-0.346138</td>\n",
       "      <td>-0.101399</td>\n",
       "      <td>-0.933285</td>\n",
       "      <td>0.474684</td>\n",
       "      <td>0.040245</td>\n",
       "      <td>1.806800</td>\n",
       "    </tr>\n",
       "    <tr>\n",
       "      <th>1</th>\n",
       "      <td>0.921473</td>\n",
       "      <td>0.140479</td>\n",
       "      <td>-0.141036</td>\n",
       "      <td>-0.757452</td>\n",
       "      <td>0.399043</td>\n",
       "      <td>0.732495</td>\n",
       "      <td>2.237559</td>\n",
       "    </tr>\n",
       "    <tr>\n",
       "      <th>2</th>\n",
       "      <td>0.240314</td>\n",
       "      <td>0.049238</td>\n",
       "      <td>-0.081581</td>\n",
       "      <td>-0.513855</td>\n",
       "      <td>0.488976</td>\n",
       "      <td>1.770153</td>\n",
       "      <td>2.915092</td>\n",
       "    </tr>\n",
       "    <tr>\n",
       "      <th>3</th>\n",
       "      <td>0.621763</td>\n",
       "      <td>-0.559033</td>\n",
       "      <td>-0.160854</td>\n",
       "      <td>0.174426</td>\n",
       "      <td>0.391795</td>\n",
       "      <td>0.657857</td>\n",
       "      <td>2.531909</td>\n",
       "    </tr>\n",
       "    <tr>\n",
       "      <th>4</th>\n",
       "      <td>0.730749</td>\n",
       "      <td>-0.346138</td>\n",
       "      <td>-0.121217</td>\n",
       "      <td>-1.081253</td>\n",
       "      <td>0.456803</td>\n",
       "      <td>1.496241</td>\n",
       "      <td>2.892448</td>\n",
       "    </tr>\n",
       "    <tr>\n",
       "      <th>...</th>\n",
       "      <td>...</td>\n",
       "      <td>...</td>\n",
       "      <td>...</td>\n",
       "      <td>...</td>\n",
       "      <td>...</td>\n",
       "      <td>...</td>\n",
       "      <td>...</td>\n",
       "    </tr>\n",
       "    <tr>\n",
       "      <th>2168</th>\n",
       "      <td>1.520893</td>\n",
       "      <td>-0.589446</td>\n",
       "      <td>-0.319400</td>\n",
       "      <td>0.230398</td>\n",
       "      <td>-0.225925</td>\n",
       "      <td>0.398690</td>\n",
       "      <td>1.349871</td>\n",
       "    </tr>\n",
       "    <tr>\n",
       "      <th>2169</th>\n",
       "      <td>1.302922</td>\n",
       "      <td>-1.167303</td>\n",
       "      <td>-0.418492</td>\n",
       "      <td>0.357226</td>\n",
       "      <td>-0.665311</td>\n",
       "      <td>-0.497999</td>\n",
       "      <td>0.444587</td>\n",
       "    </tr>\n",
       "    <tr>\n",
       "      <th>2170</th>\n",
       "      <td>1.820602</td>\n",
       "      <td>-0.619860</td>\n",
       "      <td>-0.359037</td>\n",
       "      <td>-0.291312</td>\n",
       "      <td>-0.189440</td>\n",
       "      <td>-0.141356</td>\n",
       "      <td>1.269028</td>\n",
       "    </tr>\n",
       "    <tr>\n",
       "      <th>2171</th>\n",
       "      <td>1.793356</td>\n",
       "      <td>-0.650273</td>\n",
       "      <td>-0.279764</td>\n",
       "      <td>0.131258</td>\n",
       "      <td>-0.867949</td>\n",
       "      <td>0.371172</td>\n",
       "      <td>0.430979</td>\n",
       "    </tr>\n",
       "    <tr>\n",
       "      <th>2172</th>\n",
       "      <td>1.439154</td>\n",
       "      <td>-1.076063</td>\n",
       "      <td>-0.359037</td>\n",
       "      <td>-0.395696</td>\n",
       "      <td>-0.496327</td>\n",
       "      <td>0.398390</td>\n",
       "      <td>0.680895</td>\n",
       "    </tr>\n",
       "  </tbody>\n",
       "</table>\n",
       "<p>2173 rows × 7 columns</p>\n",
       "</div>"
      ],
      "text/plain": [
       "      nitrogen  phosphorus  potassium  temperature  humidity        ph  \\\n",
       "0     1.057705   -0.346138  -0.101399    -0.933285  0.474684  0.040245   \n",
       "1     0.921473    0.140479  -0.141036    -0.757452  0.399043  0.732495   \n",
       "2     0.240314    0.049238  -0.081581    -0.513855  0.488976  1.770153   \n",
       "3     0.621763   -0.559033  -0.160854     0.174426  0.391795  0.657857   \n",
       "4     0.730749   -0.346138  -0.121217    -1.081253  0.456803  1.496241   \n",
       "...        ...         ...        ...          ...       ...       ...   \n",
       "2168  1.520893   -0.589446  -0.319400     0.230398 -0.225925  0.398690   \n",
       "2169  1.302922   -1.167303  -0.418492     0.357226 -0.665311 -0.497999   \n",
       "2170  1.820602   -0.619860  -0.359037    -0.291312 -0.189440 -0.141356   \n",
       "2171  1.793356   -0.650273  -0.279764     0.131258 -0.867949  0.371172   \n",
       "2172  1.439154   -1.076063  -0.359037    -0.395696 -0.496327  0.398390   \n",
       "\n",
       "      rainfall  \n",
       "0     1.806800  \n",
       "1     2.237559  \n",
       "2     2.915092  \n",
       "3     2.531909  \n",
       "4     2.892448  \n",
       "...        ...  \n",
       "2168  1.349871  \n",
       "2169  0.444587  \n",
       "2170  1.269028  \n",
       "2171  0.430979  \n",
       "2172  0.680895  \n",
       "\n",
       "[2173 rows x 7 columns]"
      ]
     },
     "execution_count": 770,
     "metadata": {},
     "output_type": "execute_result"
    }
   ],
   "source": [
    "original = df2[numeric_columns]\n",
    "# Standardize dataframe and return as an array\n",
    "standardizedArray = preprocessing.scale(original)\n",
    "\n",
    "# Convert standardized array to dataframe 'standardized'\n",
    "standardized = pd.DataFrame(standardizedArray, columns=numeric_columns)\n",
    "standardized"
   ]
  },
  {
   "cell_type": "code",
   "execution_count": 771,
   "id": "214e33de-5631-431c-a5dc-cd644ac9128c",
   "metadata": {},
   "outputs": [
    {
     "data": {
      "text/html": [
       "<div>\n",
       "<style scoped>\n",
       "    .dataframe tbody tr th:only-of-type {\n",
       "        vertical-align: middle;\n",
       "    }\n",
       "\n",
       "    .dataframe tbody tr th {\n",
       "        vertical-align: top;\n",
       "    }\n",
       "\n",
       "    .dataframe thead th {\n",
       "        text-align: right;\n",
       "    }\n",
       "</style>\n",
       "<table border=\"1\" class=\"dataframe\">\n",
       "  <thead>\n",
       "    <tr style=\"text-align: right;\">\n",
       "      <th></th>\n",
       "      <th>nitrogen</th>\n",
       "      <th>phosphorus</th>\n",
       "      <th>potassium</th>\n",
       "      <th>temperature</th>\n",
       "      <th>humidity</th>\n",
       "      <th>ph</th>\n",
       "      <th>rainfall</th>\n",
       "    </tr>\n",
       "  </thead>\n",
       "  <tbody>\n",
       "    <tr>\n",
       "      <th>0</th>\n",
       "      <td>0.640288</td>\n",
       "      <td>0.264286</td>\n",
       "      <td>0.190</td>\n",
       "      <td>0.345886</td>\n",
       "      <td>0.790267</td>\n",
       "      <td>0.466264</td>\n",
       "      <td>0.656458</td>\n",
       "    </tr>\n",
       "    <tr>\n",
       "      <th>1</th>\n",
       "      <td>0.604317</td>\n",
       "      <td>0.378571</td>\n",
       "      <td>0.180</td>\n",
       "      <td>0.371445</td>\n",
       "      <td>0.770633</td>\n",
       "      <td>0.549480</td>\n",
       "      <td>0.741675</td>\n",
       "    </tr>\n",
       "    <tr>\n",
       "      <th>2</th>\n",
       "      <td>0.424460</td>\n",
       "      <td>0.357143</td>\n",
       "      <td>0.195</td>\n",
       "      <td>0.406854</td>\n",
       "      <td>0.793977</td>\n",
       "      <td>0.674219</td>\n",
       "      <td>0.875710</td>\n",
       "    </tr>\n",
       "    <tr>\n",
       "      <th>3</th>\n",
       "      <td>0.525180</td>\n",
       "      <td>0.214286</td>\n",
       "      <td>0.175</td>\n",
       "      <td>0.506901</td>\n",
       "      <td>0.768751</td>\n",
       "      <td>0.540508</td>\n",
       "      <td>0.799905</td>\n",
       "    </tr>\n",
       "    <tr>\n",
       "      <th>4</th>\n",
       "      <td>0.553957</td>\n",
       "      <td>0.264286</td>\n",
       "      <td>0.185</td>\n",
       "      <td>0.324378</td>\n",
       "      <td>0.785626</td>\n",
       "      <td>0.641291</td>\n",
       "      <td>0.871231</td>\n",
       "    </tr>\n",
       "    <tr>\n",
       "      <th>...</th>\n",
       "      <td>...</td>\n",
       "      <td>...</td>\n",
       "      <td>...</td>\n",
       "      <td>...</td>\n",
       "      <td>...</td>\n",
       "      <td>...</td>\n",
       "      <td>...</td>\n",
       "    </tr>\n",
       "    <tr>\n",
       "      <th>2168</th>\n",
       "      <td>0.762590</td>\n",
       "      <td>0.207143</td>\n",
       "      <td>0.135</td>\n",
       "      <td>0.515037</td>\n",
       "      <td>0.608410</td>\n",
       "      <td>0.509353</td>\n",
       "      <td>0.566064</td>\n",
       "    </tr>\n",
       "    <tr>\n",
       "      <th>2169</th>\n",
       "      <td>0.705036</td>\n",
       "      <td>0.071429</td>\n",
       "      <td>0.110</td>\n",
       "      <td>0.533473</td>\n",
       "      <td>0.494359</td>\n",
       "      <td>0.401561</td>\n",
       "      <td>0.386972</td>\n",
       "    </tr>\n",
       "    <tr>\n",
       "      <th>2170</th>\n",
       "      <td>0.841727</td>\n",
       "      <td>0.200000</td>\n",
       "      <td>0.125</td>\n",
       "      <td>0.439202</td>\n",
       "      <td>0.617880</td>\n",
       "      <td>0.444433</td>\n",
       "      <td>0.550071</td>\n",
       "    </tr>\n",
       "    <tr>\n",
       "      <th>2171</th>\n",
       "      <td>0.834532</td>\n",
       "      <td>0.192857</td>\n",
       "      <td>0.145</td>\n",
       "      <td>0.500627</td>\n",
       "      <td>0.441760</td>\n",
       "      <td>0.506045</td>\n",
       "      <td>0.384280</td>\n",
       "    </tr>\n",
       "    <tr>\n",
       "      <th>2172</th>\n",
       "      <td>0.741007</td>\n",
       "      <td>0.092857</td>\n",
       "      <td>0.125</td>\n",
       "      <td>0.424029</td>\n",
       "      <td>0.538222</td>\n",
       "      <td>0.509317</td>\n",
       "      <td>0.433721</td>\n",
       "    </tr>\n",
       "  </tbody>\n",
       "</table>\n",
       "<p>2173 rows × 7 columns</p>\n",
       "</div>"
      ],
      "text/plain": [
       "      nitrogen  phosphorus  potassium  temperature  humidity        ph  \\\n",
       "0     0.640288    0.264286      0.190     0.345886  0.790267  0.466264   \n",
       "1     0.604317    0.378571      0.180     0.371445  0.770633  0.549480   \n",
       "2     0.424460    0.357143      0.195     0.406854  0.793977  0.674219   \n",
       "3     0.525180    0.214286      0.175     0.506901  0.768751  0.540508   \n",
       "4     0.553957    0.264286      0.185     0.324378  0.785626  0.641291   \n",
       "...        ...         ...        ...          ...       ...       ...   \n",
       "2168  0.762590    0.207143      0.135     0.515037  0.608410  0.509353   \n",
       "2169  0.705036    0.071429      0.110     0.533473  0.494359  0.401561   \n",
       "2170  0.841727    0.200000      0.125     0.439202  0.617880  0.444433   \n",
       "2171  0.834532    0.192857      0.145     0.500627  0.441760  0.506045   \n",
       "2172  0.741007    0.092857      0.125     0.424029  0.538222  0.509317   \n",
       "\n",
       "      rainfall  \n",
       "0     0.656458  \n",
       "1     0.741675  \n",
       "2     0.875710  \n",
       "3     0.799905  \n",
       "4     0.871231  \n",
       "...        ...  \n",
       "2168  0.566064  \n",
       "2169  0.386972  \n",
       "2170  0.550071  \n",
       "2171  0.384280  \n",
       "2172  0.433721  \n",
       "\n",
       "[2173 rows x 7 columns]"
      ]
     },
     "execution_count": 771,
     "metadata": {},
     "output_type": "execute_result"
    }
   ],
   "source": [
    "# Normalize dataframe and return as an array\n",
    "normalizedArray = preprocessing.MinMaxScaler().fit_transform(df2[numeric_columns])\n",
    "\n",
    "# Convert normalized array to dataframe 'normalized'\n",
    "normalized = pd.DataFrame(normalizedArray, columns=numeric_columns)\n",
    "normalized"
   ]
  },
  {
   "cell_type": "code",
   "execution_count": null,
   "id": "e60846f3-6a30-4dfe-9358-b73ca922f52c",
   "metadata": {},
   "outputs": [],
   "source": [
    "\n"
   ]
  },
  {
   "cell_type": "markdown",
   "id": "66f73cbd-b268-4b33-919d-aec88a0c2888",
   "metadata": {},
   "source": [
    "### Split Dataset into Training and Testing Sets"
   ]
  },
  {
   "cell_type": "code",
   "execution_count": 773,
   "id": "a284fb84-02fb-4e75-af0d-0885ad12509d",
   "metadata": {},
   "outputs": [],
   "source": [
    "X = df2[ind_columns].values.reshape(-1,7)\n",
    "y = df2['crop_type_encoded']\n"
   ]
  },
  {
   "cell_type": "code",
   "execution_count": 774,
   "id": "2aa14b32-f925-46a6-8766-2fc47448d260",
   "metadata": {},
   "outputs": [],
   "source": [
    "trainX, testX, trainY, testY = train_test_split(X, y, test_size=0.2, random_state=42)"
   ]
  },
  {
   "cell_type": "code",
   "execution_count": 775,
   "id": "8e12c089-ffc3-4af3-8f84-467724bc50ab",
   "metadata": {},
   "outputs": [
    {
     "name": "stdout",
     "output_type": "stream",
     "text": [
      "Split X:  (1738, 7) (435, 7)\n",
      "Split Y:  (1738,) (435,)\n"
     ]
    }
   ],
   "source": [
    "print('Split X: ', trainX.shape, testX.shape)\n",
    "print('Split Y: ', trainY.shape, testY.shape)"
   ]
  },
  {
   "cell_type": "markdown",
   "id": "e245de75-ff17-49a3-a7ab-35b5ac2c52de",
   "metadata": {},
   "source": [
    "### Feature Scaling "
   ]
  },
  {
   "cell_type": "code",
   "execution_count": 776,
   "id": "828723d1-aab6-4483-9589-78025d46b64a",
   "metadata": {},
   "outputs": [
    {
     "data": {
      "text/html": [
       "<div>\n",
       "<style scoped>\n",
       "    .dataframe tbody tr th:only-of-type {\n",
       "        vertical-align: middle;\n",
       "    }\n",
       "\n",
       "    .dataframe tbody tr th {\n",
       "        vertical-align: top;\n",
       "    }\n",
       "\n",
       "    .dataframe thead th {\n",
       "        text-align: right;\n",
       "    }\n",
       "</style>\n",
       "<table border=\"1\" class=\"dataframe\">\n",
       "  <thead>\n",
       "    <tr style=\"text-align: right;\">\n",
       "      <th></th>\n",
       "      <th>nitrogen</th>\n",
       "      <th>phosphorus</th>\n",
       "      <th>potassium</th>\n",
       "      <th>temperature</th>\n",
       "      <th>humidity</th>\n",
       "      <th>ph</th>\n",
       "      <th>rainfall</th>\n",
       "    </tr>\n",
       "  </thead>\n",
       "  <tbody>\n",
       "    <tr>\n",
       "      <th>0</th>\n",
       "      <td>1.057705</td>\n",
       "      <td>-0.346138</td>\n",
       "      <td>-0.101399</td>\n",
       "      <td>-0.933285</td>\n",
       "      <td>0.474684</td>\n",
       "      <td>0.040245</td>\n",
       "      <td>1.806800</td>\n",
       "    </tr>\n",
       "    <tr>\n",
       "      <th>1</th>\n",
       "      <td>0.921473</td>\n",
       "      <td>0.140479</td>\n",
       "      <td>-0.141036</td>\n",
       "      <td>-0.757452</td>\n",
       "      <td>0.399043</td>\n",
       "      <td>0.732495</td>\n",
       "      <td>2.237559</td>\n",
       "    </tr>\n",
       "    <tr>\n",
       "      <th>2</th>\n",
       "      <td>0.240314</td>\n",
       "      <td>0.049238</td>\n",
       "      <td>-0.081581</td>\n",
       "      <td>-0.513855</td>\n",
       "      <td>0.488976</td>\n",
       "      <td>1.770153</td>\n",
       "      <td>2.915092</td>\n",
       "    </tr>\n",
       "    <tr>\n",
       "      <th>3</th>\n",
       "      <td>0.621763</td>\n",
       "      <td>-0.559033</td>\n",
       "      <td>-0.160854</td>\n",
       "      <td>0.174426</td>\n",
       "      <td>0.391795</td>\n",
       "      <td>0.657857</td>\n",
       "      <td>2.531909</td>\n",
       "    </tr>\n",
       "    <tr>\n",
       "      <th>4</th>\n",
       "      <td>0.730749</td>\n",
       "      <td>-0.346138</td>\n",
       "      <td>-0.121217</td>\n",
       "      <td>-1.081253</td>\n",
       "      <td>0.456803</td>\n",
       "      <td>1.496241</td>\n",
       "      <td>2.892448</td>\n",
       "    </tr>\n",
       "    <tr>\n",
       "      <th>...</th>\n",
       "      <td>...</td>\n",
       "      <td>...</td>\n",
       "      <td>...</td>\n",
       "      <td>...</td>\n",
       "      <td>...</td>\n",
       "      <td>...</td>\n",
       "      <td>...</td>\n",
       "    </tr>\n",
       "    <tr>\n",
       "      <th>2168</th>\n",
       "      <td>1.520893</td>\n",
       "      <td>-0.589446</td>\n",
       "      <td>-0.319400</td>\n",
       "      <td>0.230398</td>\n",
       "      <td>-0.225925</td>\n",
       "      <td>0.398690</td>\n",
       "      <td>1.349871</td>\n",
       "    </tr>\n",
       "    <tr>\n",
       "      <th>2169</th>\n",
       "      <td>1.302922</td>\n",
       "      <td>-1.167303</td>\n",
       "      <td>-0.418492</td>\n",
       "      <td>0.357226</td>\n",
       "      <td>-0.665311</td>\n",
       "      <td>-0.497999</td>\n",
       "      <td>0.444587</td>\n",
       "    </tr>\n",
       "    <tr>\n",
       "      <th>2170</th>\n",
       "      <td>1.820602</td>\n",
       "      <td>-0.619860</td>\n",
       "      <td>-0.359037</td>\n",
       "      <td>-0.291312</td>\n",
       "      <td>-0.189440</td>\n",
       "      <td>-0.141356</td>\n",
       "      <td>1.269028</td>\n",
       "    </tr>\n",
       "    <tr>\n",
       "      <th>2171</th>\n",
       "      <td>1.793356</td>\n",
       "      <td>-0.650273</td>\n",
       "      <td>-0.279764</td>\n",
       "      <td>0.131258</td>\n",
       "      <td>-0.867949</td>\n",
       "      <td>0.371172</td>\n",
       "      <td>0.430979</td>\n",
       "    </tr>\n",
       "    <tr>\n",
       "      <th>2172</th>\n",
       "      <td>1.439154</td>\n",
       "      <td>-1.076063</td>\n",
       "      <td>-0.359037</td>\n",
       "      <td>-0.395696</td>\n",
       "      <td>-0.496327</td>\n",
       "      <td>0.398390</td>\n",
       "      <td>0.680895</td>\n",
       "    </tr>\n",
       "  </tbody>\n",
       "</table>\n",
       "<p>2173 rows × 7 columns</p>\n",
       "</div>"
      ],
      "text/plain": [
       "      nitrogen  phosphorus  potassium  temperature  humidity        ph  \\\n",
       "0     1.057705   -0.346138  -0.101399    -0.933285  0.474684  0.040245   \n",
       "1     0.921473    0.140479  -0.141036    -0.757452  0.399043  0.732495   \n",
       "2     0.240314    0.049238  -0.081581    -0.513855  0.488976  1.770153   \n",
       "3     0.621763   -0.559033  -0.160854     0.174426  0.391795  0.657857   \n",
       "4     0.730749   -0.346138  -0.121217    -1.081253  0.456803  1.496241   \n",
       "...        ...         ...        ...          ...       ...       ...   \n",
       "2168  1.520893   -0.589446  -0.319400     0.230398 -0.225925  0.398690   \n",
       "2169  1.302922   -1.167303  -0.418492     0.357226 -0.665311 -0.497999   \n",
       "2170  1.820602   -0.619860  -0.359037    -0.291312 -0.189440 -0.141356   \n",
       "2171  1.793356   -0.650273  -0.279764     0.131258 -0.867949  0.371172   \n",
       "2172  1.439154   -1.076063  -0.359037    -0.395696 -0.496327  0.398390   \n",
       "\n",
       "      rainfall  \n",
       "0     1.806800  \n",
       "1     2.237559  \n",
       "2     2.915092  \n",
       "3     2.531909  \n",
       "4     2.892448  \n",
       "...        ...  \n",
       "2168  1.349871  \n",
       "2169  0.444587  \n",
       "2170  1.269028  \n",
       "2171  0.430979  \n",
       "2172  0.680895  \n",
       "\n",
       "[2173 rows x 7 columns]"
      ]
     },
     "execution_count": 776,
     "metadata": {},
     "output_type": "execute_result"
    }
   ],
   "source": [
    "original = df2[numeric_columns]\n",
    "standardizedArray = preprocessing.scale(original)\n",
    "df_standardized = pd.DataFrame(standardizedArray, columns=numeric_columns)\n",
    "df_standardized"
   ]
  },
  {
   "cell_type": "code",
   "execution_count": 777,
   "id": "aa482728-c21e-45fd-8368-9c45fb7563bb",
   "metadata": {},
   "outputs": [
    {
     "data": {
      "text/html": [
       "<div>\n",
       "<style scoped>\n",
       "    .dataframe tbody tr th:only-of-type {\n",
       "        vertical-align: middle;\n",
       "    }\n",
       "\n",
       "    .dataframe tbody tr th {\n",
       "        vertical-align: top;\n",
       "    }\n",
       "\n",
       "    .dataframe thead th {\n",
       "        text-align: right;\n",
       "    }\n",
       "</style>\n",
       "<table border=\"1\" class=\"dataframe\">\n",
       "  <thead>\n",
       "    <tr style=\"text-align: right;\">\n",
       "      <th></th>\n",
       "      <th>nitrogen</th>\n",
       "      <th>phosphorus</th>\n",
       "      <th>potassium</th>\n",
       "      <th>temperature</th>\n",
       "      <th>humidity</th>\n",
       "      <th>ph</th>\n",
       "      <th>rainfall</th>\n",
       "    </tr>\n",
       "  </thead>\n",
       "  <tbody>\n",
       "    <tr>\n",
       "      <th>0</th>\n",
       "      <td>0.640288</td>\n",
       "      <td>0.264286</td>\n",
       "      <td>0.190</td>\n",
       "      <td>0.345886</td>\n",
       "      <td>0.790267</td>\n",
       "      <td>0.466264</td>\n",
       "      <td>0.656458</td>\n",
       "    </tr>\n",
       "    <tr>\n",
       "      <th>1</th>\n",
       "      <td>0.604317</td>\n",
       "      <td>0.378571</td>\n",
       "      <td>0.180</td>\n",
       "      <td>0.371445</td>\n",
       "      <td>0.770633</td>\n",
       "      <td>0.549480</td>\n",
       "      <td>0.741675</td>\n",
       "    </tr>\n",
       "    <tr>\n",
       "      <th>2</th>\n",
       "      <td>0.424460</td>\n",
       "      <td>0.357143</td>\n",
       "      <td>0.195</td>\n",
       "      <td>0.406854</td>\n",
       "      <td>0.793977</td>\n",
       "      <td>0.674219</td>\n",
       "      <td>0.875710</td>\n",
       "    </tr>\n",
       "    <tr>\n",
       "      <th>3</th>\n",
       "      <td>0.525180</td>\n",
       "      <td>0.214286</td>\n",
       "      <td>0.175</td>\n",
       "      <td>0.506901</td>\n",
       "      <td>0.768751</td>\n",
       "      <td>0.540508</td>\n",
       "      <td>0.799905</td>\n",
       "    </tr>\n",
       "    <tr>\n",
       "      <th>4</th>\n",
       "      <td>0.553957</td>\n",
       "      <td>0.264286</td>\n",
       "      <td>0.185</td>\n",
       "      <td>0.324378</td>\n",
       "      <td>0.785626</td>\n",
       "      <td>0.641291</td>\n",
       "      <td>0.871231</td>\n",
       "    </tr>\n",
       "    <tr>\n",
       "      <th>...</th>\n",
       "      <td>...</td>\n",
       "      <td>...</td>\n",
       "      <td>...</td>\n",
       "      <td>...</td>\n",
       "      <td>...</td>\n",
       "      <td>...</td>\n",
       "      <td>...</td>\n",
       "    </tr>\n",
       "    <tr>\n",
       "      <th>2168</th>\n",
       "      <td>0.762590</td>\n",
       "      <td>0.207143</td>\n",
       "      <td>0.135</td>\n",
       "      <td>0.515037</td>\n",
       "      <td>0.608410</td>\n",
       "      <td>0.509353</td>\n",
       "      <td>0.566064</td>\n",
       "    </tr>\n",
       "    <tr>\n",
       "      <th>2169</th>\n",
       "      <td>0.705036</td>\n",
       "      <td>0.071429</td>\n",
       "      <td>0.110</td>\n",
       "      <td>0.533473</td>\n",
       "      <td>0.494359</td>\n",
       "      <td>0.401561</td>\n",
       "      <td>0.386972</td>\n",
       "    </tr>\n",
       "    <tr>\n",
       "      <th>2170</th>\n",
       "      <td>0.841727</td>\n",
       "      <td>0.200000</td>\n",
       "      <td>0.125</td>\n",
       "      <td>0.439202</td>\n",
       "      <td>0.617880</td>\n",
       "      <td>0.444433</td>\n",
       "      <td>0.550071</td>\n",
       "    </tr>\n",
       "    <tr>\n",
       "      <th>2171</th>\n",
       "      <td>0.834532</td>\n",
       "      <td>0.192857</td>\n",
       "      <td>0.145</td>\n",
       "      <td>0.500627</td>\n",
       "      <td>0.441760</td>\n",
       "      <td>0.506045</td>\n",
       "      <td>0.384280</td>\n",
       "    </tr>\n",
       "    <tr>\n",
       "      <th>2172</th>\n",
       "      <td>0.741007</td>\n",
       "      <td>0.092857</td>\n",
       "      <td>0.125</td>\n",
       "      <td>0.424029</td>\n",
       "      <td>0.538222</td>\n",
       "      <td>0.509317</td>\n",
       "      <td>0.433721</td>\n",
       "    </tr>\n",
       "  </tbody>\n",
       "</table>\n",
       "<p>2173 rows × 7 columns</p>\n",
       "</div>"
      ],
      "text/plain": [
       "      nitrogen  phosphorus  potassium  temperature  humidity        ph  \\\n",
       "0     0.640288    0.264286      0.190     0.345886  0.790267  0.466264   \n",
       "1     0.604317    0.378571      0.180     0.371445  0.770633  0.549480   \n",
       "2     0.424460    0.357143      0.195     0.406854  0.793977  0.674219   \n",
       "3     0.525180    0.214286      0.175     0.506901  0.768751  0.540508   \n",
       "4     0.553957    0.264286      0.185     0.324378  0.785626  0.641291   \n",
       "...        ...         ...        ...          ...       ...       ...   \n",
       "2168  0.762590    0.207143      0.135     0.515037  0.608410  0.509353   \n",
       "2169  0.705036    0.071429      0.110     0.533473  0.494359  0.401561   \n",
       "2170  0.841727    0.200000      0.125     0.439202  0.617880  0.444433   \n",
       "2171  0.834532    0.192857      0.145     0.500627  0.441760  0.506045   \n",
       "2172  0.741007    0.092857      0.125     0.424029  0.538222  0.509317   \n",
       "\n",
       "      rainfall  \n",
       "0     0.656458  \n",
       "1     0.741675  \n",
       "2     0.875710  \n",
       "3     0.799905  \n",
       "4     0.871231  \n",
       "...        ...  \n",
       "2168  0.566064  \n",
       "2169  0.386972  \n",
       "2170  0.550071  \n",
       "2171  0.384280  \n",
       "2172  0.433721  \n",
       "\n",
       "[2173 rows x 7 columns]"
      ]
     },
     "execution_count": 777,
     "metadata": {},
     "output_type": "execute_result"
    }
   ],
   "source": [
    "normalizedArray = preprocessing.MinMaxScaler().fit_transform(df2[numeric_columns])\n",
    "df_normalized = pd.DataFrame(normalizedArray, columns=numeric_columns)\n",
    "df_normalized"
   ]
  },
  {
   "cell_type": "markdown",
   "id": "7a109364-1b5b-412c-b889-3cd7a44f8165",
   "metadata": {},
   "source": [
    "# Random Forest Algorithm"
   ]
  },
  {
   "cell_type": "code",
   "execution_count": 778,
   "id": "e252f250-1182-414c-8621-7caef3245e5d",
   "metadata": {},
   "outputs": [],
   "source": [
    "y = df3[['crop_type']]\n",
    "X = df_normalized[numeric_columns]"
   ]
  },
  {
   "cell_type": "code",
   "execution_count": 779,
   "id": "0691fa37-c6a7-441f-8ddf-405c77e14e68",
   "metadata": {},
   "outputs": [
    {
     "data": {
      "text/html": [
       "<style>#sk-container-id-25 {color: black;}#sk-container-id-25 pre{padding: 0;}#sk-container-id-25 div.sk-toggleable {background-color: white;}#sk-container-id-25 label.sk-toggleable__label {cursor: pointer;display: block;width: 100%;margin-bottom: 0;padding: 0.3em;box-sizing: border-box;text-align: center;}#sk-container-id-25 label.sk-toggleable__label-arrow:before {content: \"▸\";float: left;margin-right: 0.25em;color: #696969;}#sk-container-id-25 label.sk-toggleable__label-arrow:hover:before {color: black;}#sk-container-id-25 div.sk-estimator:hover label.sk-toggleable__label-arrow:before {color: black;}#sk-container-id-25 div.sk-toggleable__content {max-height: 0;max-width: 0;overflow: hidden;text-align: left;background-color: #f0f8ff;}#sk-container-id-25 div.sk-toggleable__content pre {margin: 0.2em;color: black;border-radius: 0.25em;background-color: #f0f8ff;}#sk-container-id-25 input.sk-toggleable__control:checked~div.sk-toggleable__content {max-height: 200px;max-width: 100%;overflow: auto;}#sk-container-id-25 input.sk-toggleable__control:checked~label.sk-toggleable__label-arrow:before {content: \"▾\";}#sk-container-id-25 div.sk-estimator input.sk-toggleable__control:checked~label.sk-toggleable__label {background-color: #d4ebff;}#sk-container-id-25 div.sk-label input.sk-toggleable__control:checked~label.sk-toggleable__label {background-color: #d4ebff;}#sk-container-id-25 input.sk-hidden--visually {border: 0;clip: rect(1px 1px 1px 1px);clip: rect(1px, 1px, 1px, 1px);height: 1px;margin: -1px;overflow: hidden;padding: 0;position: absolute;width: 1px;}#sk-container-id-25 div.sk-estimator {font-family: monospace;background-color: #f0f8ff;border: 1px dotted black;border-radius: 0.25em;box-sizing: border-box;margin-bottom: 0.5em;}#sk-container-id-25 div.sk-estimator:hover {background-color: #d4ebff;}#sk-container-id-25 div.sk-parallel-item::after {content: \"\";width: 100%;border-bottom: 1px solid gray;flex-grow: 1;}#sk-container-id-25 div.sk-label:hover label.sk-toggleable__label {background-color: #d4ebff;}#sk-container-id-25 div.sk-serial::before {content: \"\";position: absolute;border-left: 1px solid gray;box-sizing: border-box;top: 0;bottom: 0;left: 50%;z-index: 0;}#sk-container-id-25 div.sk-serial {display: flex;flex-direction: column;align-items: center;background-color: white;padding-right: 0.2em;padding-left: 0.2em;position: relative;}#sk-container-id-25 div.sk-item {position: relative;z-index: 1;}#sk-container-id-25 div.sk-parallel {display: flex;align-items: stretch;justify-content: center;background-color: white;position: relative;}#sk-container-id-25 div.sk-item::before, #sk-container-id-25 div.sk-parallel-item::before {content: \"\";position: absolute;border-left: 1px solid gray;box-sizing: border-box;top: 0;bottom: 0;left: 50%;z-index: -1;}#sk-container-id-25 div.sk-parallel-item {display: flex;flex-direction: column;z-index: 1;position: relative;background-color: white;}#sk-container-id-25 div.sk-parallel-item:first-child::after {align-self: flex-end;width: 50%;}#sk-container-id-25 div.sk-parallel-item:last-child::after {align-self: flex-start;width: 50%;}#sk-container-id-25 div.sk-parallel-item:only-child::after {width: 0;}#sk-container-id-25 div.sk-dashed-wrapped {border: 1px dashed gray;margin: 0 0.4em 0.5em 0.4em;box-sizing: border-box;padding-bottom: 0.4em;background-color: white;}#sk-container-id-25 div.sk-label label {font-family: monospace;font-weight: bold;display: inline-block;line-height: 1.2em;}#sk-container-id-25 div.sk-label-container {text-align: center;}#sk-container-id-25 div.sk-container {/* jupyter's `normalize.less` sets `[hidden] { display: none; }` but bootstrap.min.css set `[hidden] { display: none !important; }` so we also need the `!important` here to be able to override the default hidden behavior on the sphinx rendered scikit-learn.org. See: https://github.com/scikit-learn/scikit-learn/issues/21755 */display: inline-block !important;position: relative;}#sk-container-id-25 div.sk-text-repr-fallback {display: none;}</style><div id=\"sk-container-id-25\" class=\"sk-top-container\"><div class=\"sk-text-repr-fallback\"><pre>RandomForestClassifier(max_depth=5, random_state=99)</pre><b>In a Jupyter environment, please rerun this cell to show the HTML representation or trust the notebook. <br />On GitHub, the HTML representation is unable to render, please try loading this page with nbviewer.org.</b></div><div class=\"sk-container\" hidden><div class=\"sk-item\"><div class=\"sk-estimator sk-toggleable\"><input class=\"sk-toggleable__control sk-hidden--visually\" id=\"sk-estimator-id-31\" type=\"checkbox\" checked><label for=\"sk-estimator-id-31\" class=\"sk-toggleable__label sk-toggleable__label-arrow\">RandomForestClassifier</label><div class=\"sk-toggleable__content\"><pre>RandomForestClassifier(max_depth=5, random_state=99)</pre></div></div></div></div></div>"
      ],
      "text/plain": [
       "RandomForestClassifier(max_depth=5, random_state=99)"
      ]
     },
     "execution_count": 779,
     "metadata": {},
     "output_type": "execute_result"
    }
   ],
   "source": [
    "rfModel = RandomForestClassifier(max_depth=5, max_features='sqrt', random_state=99)\n",
    "rfModel.fit(X, y.values.ravel())"
   ]
  },
  {
   "cell_type": "code",
   "execution_count": 780,
   "id": "2cc61e79-6d89-4580-a191-db4e0cfb7fb1",
   "metadata": {},
   "outputs": [
    {
     "name": "stderr",
     "output_type": "stream",
     "text": [
      "/Users/raniyarehman/miniconda3/envs/ml/lib/python3.9/site-packages/sklearn/metrics/_classification.py:2916: UserWarning: The y_pred values do not sum to one. Starting from 1.5 thiswill result in an error.\n",
      "  warnings.warn(\n"
     ]
    },
    {
     "name": "stdout",
     "output_type": "stream",
     "text": [
      "Cross-Entropy:  0.7625954799258472\n",
      "Error State:  0.030832949838932366\n"
     ]
    },
    {
     "data": {
      "image/png": "[encoded data removed]",
      "text/plain": [
       "<Figure size 7000x2500 with 2 Axes>"
      ]
     },
     "metadata": {},
     "output_type": "display_data"
    }
   ],
   "source": [
    "print(\"Cross-Entropy: \", metrics.log_loss(y, rfModel.predict_proba(X)))\n",
    "print(\"Error State: \", 1 - metrics.accuracy_score(y, rfModel.predict(X)))\n",
    "\n",
    "y_pred = rfModel.predict(X)\n",
    "\n",
    "cm = confusion_matrix(y, y_pred)\n",
    "\n",
    "fig, ax = plt.subplots(figsize=(70, 25))  # Adjust the figsize as needed\n",
    "\n",
    "disp = ConfusionMatrixDisplay(confusion_matrix=cm, display_labels=rfModel.classes_)\n",
    "disp.plot(cmap='Blues', values_format='d', ax=ax)\n",
    "\n",
    "ax.set_xticklabels(ax.get_xticklabels(), fontsize=10)\n",
    "ax.set_yticklabels(ax.get_yticklabels(), fontsize=10)\n",
    "\n",
    "plt.show()"
   ]
  },
  {
   "cell_type": "code",
   "execution_count": 781,
   "id": "e5f711e2-577d-4729-8418-297e8bb3e8b6",
   "metadata": {},
   "outputs": [
    {
     "name": "stdout",
     "output_type": "stream",
     "text": [
      "              precision    recall  f1-score   support\n",
      "\n",
      "       apple       1.00      1.00      1.00        97\n",
      "      banana       1.00      1.00      1.00       100\n",
      "   blackgram       0.85      0.99      0.92       100\n",
      "    chickpea       1.00      1.00      1.00       100\n",
      "     coconut       1.00      1.00      1.00        96\n",
      "      coffee       1.00      1.00      1.00       100\n",
      "      cotton       0.99      1.00      1.00       100\n",
      "      grapes       1.00      1.00      1.00        99\n",
      "        jute       1.00      0.56      0.72       100\n",
      " kidneybeans       1.00      1.00      1.00        98\n",
      "      lentil       0.96      1.00      0.98        96\n",
      "       maize       0.99      0.99      0.99       100\n",
      "       mango       1.00      1.00      1.00        97\n",
      "   mothbeans       1.00      0.79      0.88        99\n",
      "    mungbean       1.00      1.00      1.00        99\n",
      "   muskmelon       1.00      1.00      1.00       100\n",
      "      orange       1.00      1.00      1.00        96\n",
      "      papaya       1.00      1.00      1.00       100\n",
      "  pigeonpeas       1.00      1.00      1.00        99\n",
      " pomegranate       1.00      1.00      1.00        97\n",
      "        rice       0.69      1.00      0.82       100\n",
      "  watermelon       1.00      1.00      1.00       100\n",
      "\n",
      "    accuracy                           0.97      2173\n",
      "   macro avg       0.98      0.97      0.97      2173\n",
      "weighted avg       0.98      0.97      0.97      2173\n",
      "\n"
     ]
    }
   ],
   "source": [
    "print(classification_report(y, rfModel.predict(X)))"
   ]
  },
  {
   "cell_type": "markdown",
   "id": "7537895f-f3ae-4f2c-90b0-ef0f17996cbc",
   "metadata": {},
   "source": [
    "# Support Vector Machines"
   ]
  },
  {
   "cell_type": "code",
   "execution_count": 782,
   "id": "000476a4-7ef5-4c52-be2b-e8556f8fde93",
   "metadata": {},
   "outputs": [
    {
     "name": "stdout",
     "output_type": "stream",
     "text": [
      "<class 'pandas.core.frame.DataFrame'>\n",
      "Index: 2173 entries, 0 to 2199\n",
      "Data columns (total 9 columns):\n",
      " #   Column             Non-Null Count  Dtype  \n",
      "---  ------             --------------  -----  \n",
      " 0   nitrogen           2173 non-null   float64\n",
      " 1   phosphorus         2173 non-null   int64  \n",
      " 2   potassium          2173 non-null   int64  \n",
      " 3   temperature        2173 non-null   float64\n",
      " 4   humidity           2173 non-null   float64\n",
      " 5   ph                 2173 non-null   float64\n",
      " 6   rainfall           2173 non-null   float64\n",
      " 7   crop_type          2173 non-null   object \n",
      " 8   crop_type_encoded  2173 non-null   int64  \n",
      "dtypes: float64(5), int64(3), object(1)\n",
      "memory usage: 169.8+ KB\n"
     ]
    }
   ],
   "source": [
    "df2.info()"
   ]
  },
  {
   "cell_type": "code",
   "execution_count": 783,
   "id": "62b56eb0-cc49-461c-ad9e-475019388427",
   "metadata": {},
   "outputs": [],
   "source": [
    "df5 = df2.drop('crop_type', axis=1)\n",
    "X = df5[ind_columns].values.reshape(-1,7)\n",
    "y = df5['crop_type_encoded']\n",
    "trainX, testX, trainY, testY = train_test_split(X, y, test_size=0.2, random_state=42)"
   ]
  },
  {
   "cell_type": "code",
   "execution_count": 784,
   "id": "f3a8ee21-0d9d-4ccc-9781-8043d444a7c8",
   "metadata": {},
   "outputs": [
    {
     "name": "stdout",
     "output_type": "stream",
     "text": [
      "crop_type_encoded\n",
      "20    100\n",
      "1     100\n",
      "8     100\n",
      "6     100\n",
      "17    100\n",
      "15    100\n",
      "21    100\n",
      "11    100\n",
      "5     100\n",
      "2     100\n",
      "3     100\n",
      "7      99\n",
      "14     99\n",
      "13     99\n",
      "18     99\n",
      "9      98\n",
      "19     97\n",
      "0      97\n",
      "12     97\n",
      "10     96\n",
      "16     96\n",
      "4      96\n",
      "Name: count, dtype: int64\n"
     ]
    }
   ],
   "source": [
    "class_distribution = df5['crop_type_encoded'].value_counts()\n",
    "print(class_distribution)"
   ]
  },
  {
   "cell_type": "code",
   "execution_count": null,
   "id": "4bcd4c2c-5c28-47c1-ae8c-b75badf9bdc9",
   "metadata": {},
   "outputs": [],
   "source": []
  },
  {
   "cell_type": "code",
   "execution_count": 785,
   "id": "8c198098-66e3-4fdc-8a41-ac12911bbe03",
   "metadata": {},
   "outputs": [],
   "source": [
    "svm_linear = svm.SVC(kernel='linear')\n",
    "svm_linear.fit(trainX, trainY)\n",
    "y_pred_linear = svm_linear.predict(testX)"
   ]
  },
  {
   "cell_type": "code",
   "execution_count": 786,
   "id": "cc0eb131-b8c5-404c-85ac-4b5c5cd1e56e",
   "metadata": {},
   "outputs": [
    {
     "name": "stdout",
     "output_type": "stream",
     "text": [
      "Linear Accuracy:  0.9839080459770115\n",
      "Linear Precision:  0.9857147833009903\n",
      "Linear Recall:  0.9839080459770115\n"
     ]
    }
   ],
   "source": [
    "print('Linear Accuracy: ', metrics.accuracy_score(testY, y_pred_linear))\n",
    "print('Linear Precision: ', metrics.precision_score(testY, y_pred_linear, average='weighted'))\n",
    "print('Linear Recall: ', metrics.recall_score(testY, y_pred_linear, average='weighted'))"
   ]
  },
  {
   "cell_type": "code",
   "execution_count": 787,
   "id": "f9f05bf5-3524-49b0-aab6-2853db6cc1ea",
   "metadata": {},
   "outputs": [],
   "source": [
    "svm_rbf = svm.SVC(kernel='rbf')\n",
    "svm_rbf.fit(trainX, trainY)\n",
    "y_pred_rbf = svm_rbf.predict(testX)"
   ]
  },
  {
   "cell_type": "code",
   "execution_count": 788,
   "id": "95fa57cf-cbed-4c1d-a984-ec84eb730e3e",
   "metadata": {},
   "outputs": [
    {
     "name": "stdout",
     "output_type": "stream",
     "text": [
      "RBF Accuracy:  0.9770114942528736\n",
      "RBF Precision:  0.9807183908045979\n",
      "RBF Recall:  0.9770114942528736\n"
     ]
    }
   ],
   "source": [
    "print('RBF Accuracy: ', metrics.accuracy_score(testY, y_pred_rbf))\n",
    "print('RBF Precision: ', metrics.precision_score(testY, y_pred_rbf, average='weighted'))\n",
    "print('RBF Recall: ', metrics.recall_score(testY, y_pred_rbf, average='weighted'))"
   ]
  },
  {
   "cell_type": "code",
   "execution_count": 789,
   "id": "216768e3-dc11-4be9-96cd-930369dc6caf",
   "metadata": {},
   "outputs": [],
   "source": [
    "svm_poly = svm.SVC(kernel='poly')\n",
    "svm_poly.fit(trainX, trainY)\n",
    "y_pred_poly = svm_poly.predict(testX)"
   ]
  },
  {
   "cell_type": "code",
   "execution_count": 790,
   "id": "caff4449-543a-42f0-813c-fd7217779f87",
   "metadata": {},
   "outputs": [
    {
     "name": "stdout",
     "output_type": "stream",
     "text": [
      "Poly Accuracy:  0.9747126436781609\n",
      "Poly Precision:  0.9760597352838731\n",
      "Poly Recall:  0.9747126436781609\n"
     ]
    }
   ],
   "source": [
    "print('Poly Accuracy: ', metrics.accuracy_score(testY, y_pred_poly))\n",
    "print('Poly Precision: ', metrics.precision_score(testY, y_pred_poly, average='weighted'))\n",
    "print('Poly Recall: ', metrics.recall_score(testY, y_pred_poly, average='weighted'))"
   ]
  },
  {
   "cell_type": "code",
   "execution_count": null,
   "id": "b62efff6-90fe-4d32-bd99-f64e7310e8cf",
   "metadata": {},
   "outputs": [],
   "source": []
  },
  {
   "cell_type": "code",
   "execution_count": null,
   "id": "68fae777-1374-4440-b1a6-ce0bb67b89d1",
   "metadata": {},
   "outputs": [],
   "source": []
  }
 ],
 "metadata": {
  "kernelspec": {
   "display_name": "Python 3 (ipykernel)",
   "language": "python",
   "name": "python3"
  },
  "language_info": {
   "codemirror_mode": {
    "name": "ipython",
    "version": 3
   },
   "file_extension": ".py",
   "mimetype": "text/x-python",
   "name": "python",
   "nbconvert_exporter": "python",
   "pygments_lexer": "ipython3",
   "version": "3.9.18"
  }
 },
 "nbformat": 4,
 "nbformat_minor": 5
}
